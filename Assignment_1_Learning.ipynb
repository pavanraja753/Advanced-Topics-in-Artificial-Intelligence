{
  "nbformat": 4,
  "nbformat_minor": 0,
  "metadata": {
    "colab": {
      "name": "Assignment_1_Learning",
      "provenance": [],
      "authorship_tag": "ABX9TyPqqYjl/Ruyme2VoIivZdHH",
      "include_colab_link": true
    },
    "kernelspec": {
      "name": "python3",
      "display_name": "Python 3"
    },
    "language_info": {
      "name": "python"
    }
  },
  "cells": [
    {
      "cell_type": "markdown",
      "metadata": {
        "id": "view-in-github",
        "colab_type": "text"
      },
      "source": [
        "<a href=\"https://colab.research.google.com/github/pavanraja753/Advanced-Topics-in-Artificial-Intelligence/blob/main/Assignment_1_Learning.ipynb\" target=\"_parent\"><img src=\"https://colab.research.google.com/assets/colab-badge.svg\" alt=\"Open In Colab\"/></a>"
      ]
    },
    {
      "cell_type": "markdown",
      "source": [
        "# Implementing our network to classify digits"
      ],
      "metadata": {
        "id": "jH7Q9aPbdfoV"
      }
    },
    {
      "cell_type": "code",
      "execution_count": 25,
      "metadata": {
        "id": "n3qdOTzJdW5V"
      },
      "outputs": [],
      "source": [
        "import numpy as np\n",
        "class Network(object):\n",
        "\n",
        "    def __init__(self,sizes):\n",
        "        self.num_layers = len(sizes)\n",
        "        self.sizes = sizes\n",
        "        self.biases = [np.random.randn(y,1)for y in sizes[1:]]\n",
        "        self.weights = [np.random.randn(y,x) \n",
        "                            for x,y in zip(sizes[:-1],sizes[1:])]   # Weight matrix is of shape next layer shape x current layer  \n",
        "\n",
        "\n",
        "\n",
        "    def sigmoid(z):\n",
        "        return 1.0/(1.0+np.exp(z))\n",
        "\n",
        "    def feedforward(self,a):\n",
        "        \"\"\"\n",
        "        Return the output of the network if \"a\" is \"input\"\n",
        "        \"\"\"\n",
        "        for b,W in zip(self.biases,self.weights):\n",
        "            a = sigmoid(np.dot(W,a) +b) \n",
        "        return a\n",
        "\n",
        "    \n",
        "    def SGD(self, training_data, epochs, mini_batch_size, eta, test_data = None):\n",
        "        \"\"\"\n",
        "        Train the neutal network using mini-batch stochastic gradeint descent. \n",
        "        The \"training_data\" is a list of tuples \"(x,y)\" representing the \n",
        "        training inputs and the desired outputs. The other non-optional \n",
        "        parameters are self-explanatory. if \"Test_data\" is provided then the \n",
        "        network will be evaluated against the test data after each epoch, and \n",
        "        partial progress printed out\n",
        "        \"\"\"\n",
        "        if test_data: n_test = len(test_data)\n",
        "        n = len(training_data)\n",
        "        for j in xrange(epochs):\n",
        "            random.shuffle(training_data)\n",
        "            mini_batchs = [training_data[k:k+mini_batch_size]  for k in xrange(0,n,mini_batch_size)]\n",
        "            for mini_batch in mini_batchs:\n",
        "                self.update_mini_batch(mini_batch, eta)\n",
        "\n",
        "            if test_data:\n",
        "                print(\"Epoch {0}: {1} / {2}\".format(j, self.evaluate(test_data),n_test))\n",
        "            \n",
        "            else:\n",
        "                print(\"Epoch {0} complete\".format(j))\n",
        "\n",
        "\n",
        "    def update_mini_batch(self,mini_batch, eta):\n",
        "        \"\"\"\n",
        "        Update the network's weights and biases by applying\n",
        "        gradient descent using backpropagation to a single mini batch.\n",
        "        The \"mini_batch\" is a list of tuples \"(x, y)\", and \"eta\"\n",
        "        is the learning rate.\n",
        "        \"\"\"\n",
        "        nabla_b = [np.zeros(b.shape) for b in self.biases]\n",
        "        nabla_w = [np.zeros(w.shape) for b in self.weights]\n",
        "        for x, y in mini_batch:\n",
        "            delta_nabla_b, delta_nabla_w = self.backprop(x,y)\n",
        "            nabla_b = [nb+dnb for nb, dnb in zip(nabla_b, delta_nabla_b)]\n",
        "            nabla_w = [nw+dnw for nw, dnw in zip(nabla_w, delta_nabla_w)]\n",
        "\n",
        "        self.weights = [w- (eta/len(mini_batch))*nw for w, nw in zip(self.weights, nabla_w)]\n",
        "        self.weights = [b- (eta/len(mini_batch))*nb for b, nb in zip(self.biases, nabla_b)]\n",
        "\n",
        "\n",
        "\n",
        "\n",
        "    "
      ]
    },
    {
      "cell_type": "code",
      "source": [
        "net = Network([1,3,1])"
      ],
      "metadata": {
        "id": "hD8xYY5me_on"
      },
      "execution_count": 26,
      "outputs": []
    },
    {
      "cell_type": "code",
      "source": [
        "net.weights"
      ],
      "metadata": {
        "colab": {
          "base_uri": "https://localhost:8080/"
        },
        "id": "A9IbILihfCrc",
        "outputId": "69573dcd-f6ad-4b68-b9ff-4520111f5799"
      },
      "execution_count": 27,
      "outputs": [
        {
          "output_type": "execute_result",
          "data": {
            "text/plain": [
              "[array([[ 0.08256901],\n",
              "        [-0.51584651],\n",
              "        [-0.64048914]]), array([[ 0.88675184,  0.57569228, -0.30252497]])]"
            ]
          },
          "metadata": {},
          "execution_count": 27
        }
      ]
    },
    {
      "cell_type": "code",
      "source": [
        "net.biases"
      ],
      "metadata": {
        "colab": {
          "base_uri": "https://localhost:8080/"
        },
        "id": "hjPxS8GofERH",
        "outputId": "f0b79b41-902e-4c4b-c921-4a3255c0918c"
      },
      "execution_count": 19,
      "outputs": [
        {
          "output_type": "execute_result",
          "data": {
            "text/plain": [
              "[array([[ 0.63173524],\n",
              "        [ 0.45645095],\n",
              "        [-0.61431962]]), array([[0.79382049]])]"
            ]
          },
          "metadata": {},
          "execution_count": 19
        }
      ]
    },
    {
      "cell_type": "code",
      "source": [
        ""
      ],
      "metadata": {
        "colab": {
          "base_uri": "https://localhost:8080/"
        },
        "id": "97NKTIxgfIiP",
        "outputId": "9d5dd842-e85f-4c4a-bee6-d5e456177055"
      },
      "execution_count": 21,
      "outputs": [
        {
          "output_type": "execute_result",
          "data": {
            "text/plain": [
              "array([[0.85480378, 0.91933034, 0.88843588]])"
            ]
          },
          "metadata": {},
          "execution_count": 21
        }
      ]
    },
    {
      "cell_type": "code",
      "source": [
        ""
      ],
      "metadata": {
        "id": "cjqzVNJzhT1U"
      },
      "execution_count": null,
      "outputs": []
    }
  ]
}